{
 "cells": [
  {
   "cell_type": "markdown",
   "metadata": {},
   "source": [
    "# Interactive plate heatmap viewer with image tooltips demonstration\n",
    "\n",
    "Volker Hilsenstein<p> \n",
    "EMBL Advanced Light Microscopy Facility, Heidelberg<p>\n",
    "April 2017\n",
    "\n",
    "## Aim\n",
    "\n",
    "For high-throughput screening experiments in plate formats, one often wants to visually inspect heat maps showing the whole plate to detect systematic errors like gradients across the plate and to detect wells with hits (strong effects). \n",
    "\n",
    "However, the numbers that make up the heatmap represent measurements extracted with image analysis. If a well appears to be a hit one would often like to check wether the image analysis (or the microscopy) worked correctly. \n",
    "Therefore it is important to be able to link back from the points in the plot to the images.\n",
    "\n",
    "This heatmap viewer implements the functionality to visualize several plates in a high-throughput screen and link back to image sequences.\n",
    "\n",
    "## Implementation\n",
    "\n",
    "The implementation is with __holoviews__ using the __bokeh__ backend.\n",
    "As I can't make the screening data of our users publicly available, the first part of this notebook simply \n",
    "generates a data frame with random data.\n",
    "To demonstrate the ability to link back to images, I created a list of animated gif URLs based on a search for \"microscopy\" on Giphy. See the notebook `GetAnimatedGifURLs.ipynb`. \n",
    "\n",
    "\n",
    "## Requirements\n",
    "\n",
    "I dumped my python environmnent in a .yml file `plateviewer_conda_env.yml`. However, this environment has many more packages and channels that you will need. Here is a manually edited version that includes the `holoviews`, `bokeh` and `pandas` versions that I used.\n",
    "\n",
    "```\n",
    "name: base\n",
    "channels:\n",
    "  - pyviz\n",
    "  - pytorch\n",
    "  - damianavila82\n",
    "  - bokeh\n",
    "  - ioam\n",
    "  - bioconda\n",
    "  - conda-forge\n",
    "  - r\n",
    "  - default\n",
    "  - conda\n",
    "  - defaults\n",
    "dependencies:\n",
    "  - bokeh=0.12.14=py36_1\n",
    "  - conda=4.5.1=py36_0\n",
    "  - conda-env=2.6.0=0\n",
    "  - dask=0.17.0=py_0\n",
    "  - dask-core=0.17.0=py_0\n",
    "  - datashader=0.6.5=py_0\n",
    "  - holoviews=1.9.5=py36_0\n",
    "  - ipywidgets=7.0.1=py_2\n",
    "  - jupyter_client=5.2.3=py36_0\n",
    "  - jupyter_core=4.4.0=py_0\n",
    "  - matplotlib=2.1.1=py36_0\n",
    "  - notebook=5.4.1=py36_0\n",
    "  - pandas=0.22.0=py36_0\n",
    "  - tornado=4.5.3=py36_0\n",
    "  - widgetsnbextension=3.0.3=py36_2\n",
    "  - jupyter=1.0.0=py36_3\n",
    "  - numba=0.36.2=np112py36h37f72b1_0\n",
    "  - numpy=1.12.1=py36h8871d66_1\n",
    "  - numpydoc=0.6.0=py36_0\n",
    "  - pip=9.0.1=py36_1\n",
    "  - python=3.6.0=0\n",
    "  - yaml=0.1.6=0\n",
    "  - zlib=1.2.8=3\n",
    "  - param=1.5.0=py36_0\n",
    "  - parambokeh=0.2.2=py_0\n",
    "  - pip:\n",
    "    - imagen==2.1.0\n",
    "    - imutils==0.4.5\n",
    "    - jupyterthemes==0.16.4\n",
    "    - nbdime==0.4.1\n",
    "    - paho-mqtt==1.3.1\n",
    "    - pandas-datareader==0.5.0\n",
    "\n",
    "```\n"
   ]
  },
  {
   "cell_type": "markdown",
   "metadata": {},
   "source": [
    "# Import required packages"
   ]
  },
  {
   "cell_type": "code",
   "execution_count": null,
   "metadata": {},
   "outputs": [],
   "source": [
    "import pandas as pd\n",
    "import numpy as np\n",
    "import holoviews as hv\n",
    "hv.extension('bokeh')\n",
    "import pandas as pd\n",
    "import re\n",
    "from plateviewer_tools import well_nr_to_coords, create_custom_tooltip"
   ]
  },
  {
   "cell_type": "markdown",
   "metadata": {},
   "source": [
    "# Create synthetic data"
   ]
  },
  {
   "cell_type": "code",
   "execution_count": null,
   "metadata": {},
   "outputs": [],
   "source": [
    "def createDF():\n",
    "    df = pd.DataFrame(np.random.randn(96, 4), columns=list('ABCD'))\n",
    "    df[\"well\"] = np.arange(96)+1\n",
    "    # change the scaling\n",
    "    df[\"A\"] *= 255\n",
    "    df[\"B\"] *= 10e3\n",
    "    df[\"C\"] *= 30e6\n",
    "    return df\n",
    "\n"
   ]
  },
  {
   "cell_type": "code",
   "execution_count": null,
   "metadata": {},
   "outputs": [],
   "source": [
    "df1 = createDF()\n",
    "df1 = pd.melt(df1, id_vars=\"well\", var_name=\"Platename\", value_name=\"value1\")\n",
    "df2 = createDF()\n",
    "df2 = pd.melt(df2, id_vars=\"well\", var_name=\"Platename\", value_name=\"value2\")\n"
   ]
  },
  {
   "cell_type": "markdown",
   "metadata": {},
   "source": [
    "## Let's also create some outliers in the value2 column.\n",
    "This demonstrates the need for having the option to interactively scale the color map"
   ]
  },
  {
   "cell_type": "code",
   "execution_count": null,
   "metadata": {},
   "outputs": [],
   "source": [
    "df = pd.concat([df1, df2.value2], axis=1)\n",
    "# create some outliers in a few plates\n",
    "\n",
    "df.loc[df.well==20, \"value2\"] *= 30\n",
    "#df.loc[df.well==23, \"value2\"] = np.nan"
   ]
  },
  {
   "cell_type": "markdown",
   "metadata": {},
   "source": [
    "## Add well coordinate columns based on well numbers"
   ]
  },
  {
   "cell_type": "code",
   "execution_count": null,
   "metadata": {},
   "outputs": [],
   "source": [
    "wellcoords = df.well.apply(well_nr_to_coords)\n",
    "df = pd.concat([df, wellcoords],axis=1)"
   ]
  },
  {
   "cell_type": "markdown",
   "metadata": {},
   "source": [
    "# Add image URLs"
   ]
  },
  {
   "cell_type": "code",
   "execution_count": null,
   "metadata": {},
   "outputs": [],
   "source": [
    "gifs = pd.read_csv(\"giphy_urls.csv\")\n",
    "df = pd.concat([df, gifs[0:len(df)].giffile], axis=1)\n",
    "# note ! not all URLs are unique. Expect to see the same gif in several wells !"
   ]
  },
  {
   "cell_type": "markdown",
   "metadata": {},
   "source": [
    "## In case the data isn't sorted already you would have to sort by row and column, otherwise the heatmap is in random order"
   ]
  },
  {
   "cell_type": "code",
   "execution_count": null,
   "metadata": {},
   "outputs": [],
   "source": [
    "df  = df.sort_values(['row','col'], ascending=[False,True])\n"
   ]
  },
  {
   "cell_type": "markdown",
   "metadata": {},
   "source": [
    "## This is what the final data frame looks like"
   ]
  },
  {
   "cell_type": "code",
   "execution_count": null,
   "metadata": {},
   "outputs": [],
   "source": [
    "df.head()"
   ]
  },
  {
   "cell_type": "markdown",
   "metadata": {},
   "source": [
    "# Generate the custom tooltip html for the Hover Tool"
   ]
  },
  {
   "cell_type": "code",
   "execution_count": null,
   "metadata": {},
   "outputs": [],
   "source": [
    "value_fields = [\"value1\", \"value2\", \"well\"]\n",
    "info_fields = [ \"well\", \"value1\", \"value2\", \"Platename\"]\n",
    "\n",
    "impath = \"\"\n",
    "im_col_name = \"giffile\"\n",
    "\n",
    "custom_tip = create_custom_tooltip(info_fields, impath, im_col_name, 100, 100)\n",
    "#custom_tip = \"\"\n",
    "from bokeh.models import HoverTool\n",
    "hover = HoverTool( tooltips= custom_tip)"
   ]
  },
  {
   "cell_type": "code",
   "execution_count": null,
   "metadata": {},
   "outputs": [],
   "source": [
    "print(custom_tip)"
   ]
  },
  {
   "cell_type": "markdown",
   "metadata": {},
   "source": [
    "## Now setup the dynamic map for interactive heatmap visualization"
   ]
  },
  {
   "cell_type": "code",
   "execution_count": null,
   "metadata": {},
   "outputs": [],
   "source": [
    "width = 700\n",
    "height = int(width * 8/12)\n",
    "\n",
    "\n",
    "# from \n",
    "# https://stackoverflow.com/questions/46024901/how-to-format-colorbar-label-in-bokeh\n",
    "from bokeh.models import PrintfTickFormatter\n",
    "formatter = PrintfTickFormatter(format='%1f')\n",
    "colorbar_opts={'formatter': formatter}\n",
    "\n",
    "\n",
    "def select_plate(Platename, Column, cmap, lower_percentile, upper_percentile):\n",
    "    #print(f\"Platename: {Platename}, Column: {Column}, Normalisation: {Normalisation}\")\n",
    "    tmp = df[df[\"Platename\"]==Platename]\n",
    "    values = tmp[Column]\n",
    "    vdims = [Column] + list(set(info_fields + [\"giffile\"]) - set([Column]))\n",
    "    kdims = ['col','row']\n",
    "    cmap_range = (np.percentile(values, lower_percentile ), np.percentile(values, upper_percentile))             \n",
    "    dataset = hv.Dataset(tmp, vdims=vdims, kdims=kdims)\n",
    "    heatmap = hv.HeatMap(dataset, vdims=vdims, kdims=kdims).redim.range(**{Column: cmap_range}).options(tools=[hover], logz=False ,colorbar=True ,width=width, height=height, toolbar='below', colorbar_opts=colorbar_opts, invert_yaxis=True, cmap=cmap)\n",
    "    return  heatmap\n",
    " \n",
    "    \n",
    "hv.DynamicMap(select_plate, kdims=['Platename','Column', 'cmap', 'lower_percentile','upper_percentile', ]).redim.values(Platename=pd.unique(df[\"Platename\"]), Column=[\"value1\", \"value2\"], cmap=[\"bwr\", \"coolwarm\"], lower_percentile=list(range(50)),upper_percentile=list(range(50,101)))"
   ]
  },
  {
   "cell_type": "code",
   "execution_count": null,
   "metadata": {},
   "outputs": [],
   "source": []
  }
 ],
 "metadata": {
  "kernelspec": {
   "display_name": "Python 3",
   "language": "python",
   "name": "python3"
  },
  "language_info": {
   "codemirror_mode": {
    "name": "ipython",
    "version": 3
   },
   "file_extension": ".py",
   "mimetype": "text/x-python",
   "name": "python",
   "nbconvert_exporter": "python",
   "pygments_lexer": "ipython3",
   "version": "3.6.0"
  }
 },
 "nbformat": 4,
 "nbformat_minor": 2
}
