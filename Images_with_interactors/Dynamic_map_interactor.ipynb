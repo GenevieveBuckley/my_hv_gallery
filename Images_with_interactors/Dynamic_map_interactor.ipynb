{
 "cells": [
  {
   "cell_type": "code",
   "execution_count": null,
   "metadata": {},
   "outputs": [],
   "source": [
    "from skimage.exposure import rescale_intensity\n",
    "import numpy as np\n",
    "import holoviews as hv\n",
    "hv.extension('bokeh')"
   ]
  },
  {
   "cell_type": "code",
   "execution_count": null,
   "metadata": {},
   "outputs": [],
   "source": [
    "volumeseries = np.random.randint(0,255,(10,20,300,300))\n",
    "\n",
    "def select_t_z(t,z):\n",
    "    tmp = volumeseries[t,z,: , :]\n",
    "    return  hv.Image(tmp)\n",
    "\n",
    "hv.DynamicMap(select_t_z, kdims=['t','z', ]).redim.values(t=range(10), z=range(20))"
   ]
  },
  {
   "cell_type": "markdown",
   "metadata": {},
   "source": [
    "Now try to add things like\n",
    "* colormap selection\n",
    "* yz and xz slices\n",
    "* intensity range sliders\n",
    "* a hover tooltip would be great\n",
    "* fix aspect ration"
   ]
  },
  {
   "cell_type": "markdown",
   "metadata": {},
   "source": [
    "The followoing code revealed a bug in hv. 10.1.2\n",
    "Issue filed https://github.com/ioam/holoviews/issues/2645\n",
    "Developer created this pull request: https://github.com/ioam/holoviews/pull/2646\n",
    "until 10.1.3 is on conda you need to install using\n",
    "`pip install git+git://github.com/ioam/holoviews.git@large_dmap_opt`"
   ]
  },
  {
   "cell_type": "code",
   "execution_count": null,
   "metadata": {},
   "outputs": [],
   "source": [
    "# The larger the range of the intensity sliders, the longer this takes ages to run ...\n",
    "# \n",
    "\n",
    "volumeseries = np.random.randint(0,255,(10,20,600,300))\n",
    "\n",
    "def select_t_z(t,z,cmap, vmin, vmax):\n",
    "    tmp_xy = rescale_intensity(volumeseries[t,z,: , :], (vmin,vmax), (0,255) )\n",
    "    \n",
    "    return  hv.Image(tmp_xy).options(cmap=cmap) \n",
    "    \n",
    "hv.DynamicMap(select_t_z, kdims=['t','z', 'cmap', 'vmin','vmax']).redim.values(t=range(10), z=range(20) ,cmap=['viridis','Greys'], vmin=range(128), vmax=range(128,256))\n"
   ]
  },
  {
   "cell_type": "markdown",
   "metadata": {},
   "source": [
    "The result should look like this: (animated gif as the above cell will not be displayed in a static HTML version of the notebook)\n",
    "\n",
    "![](./dynamic_map_interact_zt_cmap_vmin_vmax.gif)"
   ]
  },
  {
   "cell_type": "code",
   "execution_count": null,
   "metadata": {},
   "outputs": [],
   "source": [
    "hv.__version__"
   ]
  }
 ],
 "metadata": {
  "kernelspec": {
   "display_name": "Python 3",
   "language": "python",
   "name": "python3"
  },
  "language_info": {
   "codemirror_mode": {
    "name": "ipython",
    "version": 3
   },
   "file_extension": ".py",
   "mimetype": "text/x-python",
   "name": "python",
   "nbconvert_exporter": "python",
   "pygments_lexer": "ipython3",
   "version": "3.6.0"
  }
 },
 "nbformat": 4,
 "nbformat_minor": 2
}
